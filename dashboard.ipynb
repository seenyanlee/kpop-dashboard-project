{
 "cells": [
  {
   "cell_type": "markdown",
   "metadata": {},
   "source": [
    "# Kpop Dashboard Project"
   ]
  },
  {
   "cell_type": "markdown",
   "metadata": {},
   "source": [
    "## Import libraries"
   ]
  },
  {
   "cell_type": "code",
   "execution_count": null,
   "metadata": {},
   "outputs": [],
   "source": [
    "from dash import Dash, dcc, html, Output, Input\n",
    "import dash_bootstrap_components as dbc\n",
    "import pandas as pd\n",
    "# from plotly_calplot import calplot\n",
    "import plotly.express as px\n",
    "from summarytools import dfSummary"
   ]
  },
  {
   "cell_type": "markdown",
   "metadata": {},
   "source": [
    "## Exploratory data analysis"
   ]
  },
  {
   "cell_type": "markdown",
   "metadata": {},
   "source": [
    "### Load dataset"
   ]
  },
  {
   "cell_type": "code",
   "execution_count": null,
   "metadata": {},
   "outputs": [],
   "source": [
    "# Data retrieved from https://www.kaggle.com/datasets/nicolsalayoarias/all-kpop-idols/?select=kpopidolsv3.csv\n",
    "data = pd.read_csv('kpopidolsv3.csv')\n",
    "data.head()"
   ]
  },
  {
   "cell_type": "markdown",
   "metadata": {},
   "source": [
    "### Data cleaning"
   ]
  },
  {
   "cell_type": "code",
   "execution_count": null,
   "metadata": {},
   "outputs": [],
   "source": [
    "# Extract required columns\n",
    "df = data[[\"Full Name\", \"Group\", \"Former Group\", \"Date of Birth\", \"Debut\", \"Country\", \"Gender\"]]\n",
    "\n",
    "dfSummary(df)"
   ]
  },
  {
   "cell_type": "code",
   "execution_count": null,
   "metadata": {},
   "outputs": [],
   "source": [
    "# Drop rows where Full Name is missing (unable to identify) and Debut is filled with a placeholder date (not yet debuted)\n",
    "df = df.loc[df[\"Full Name\"].isnull() == False]\n",
    "df = df.loc[df[\"Debut\"] != \"0/01/1900\"]\n",
    "\n",
    "# # Convert columns to required datatypes\n",
    "df = df.astype({\"Full Name\": str, \"Group\": str, \"Former Group\": str, \"Country\": str, \"Gender\": str})\n",
    "df[\"Date of Birth\"] = pd.to_datetime(df[\"Date of Birth\"], format = \"%d/%m/%Y\")\n",
    "df[\"Debut\"] = pd.to_datetime(df[\"Debut\"], format = \"%d/%m/%Y\")\n",
    "\n",
    "df.dtypes"
   ]
  },
  {
   "cell_type": "code",
   "execution_count": null,
   "metadata": {},
   "outputs": [],
   "source": [
    "dfSummary(df)"
   ]
  },
  {
   "cell_type": "markdown",
   "metadata": {},
   "source": [
    "### Feature engineering"
   ]
  },
  {
   "cell_type": "code",
   "execution_count": null,
   "metadata": {},
   "outputs": [],
   "source": [
    "# Add new columns\n",
    "df[\"Debut Year\"] = df[\"Debut\"].dt.year\n",
    "df[\"Debut Month\"] = df[\"Debut\"].dt.month\n",
    "df[\"Birth Year\"] = df[\"Date of Birth\"].dt.year\n",
    "df[\"Birth Month\"]  =df[\"Date of Birth\"].dt.month\n",
    "df[\"Debut Age\"] = df[\"Debut Year\"] - df[\"Birth Year\"]"
   ]
  },
  {
   "cell_type": "code",
   "execution_count": null,
   "metadata": {},
   "outputs": [],
   "source": [
    "# Convert data types of the new columns\n",
    "# Fill Nan values in the new columns with 0 in order to allow conversion to int\n",
    "df[[\"Debut Year\", \"Debut Month\", \"Birth Year\", \"Birth Month\", \"Debut Age\"]] = df[[\"Debut Year\", \"Debut Month\", \"Birth Year\", \"Birth Month\", \"Debut Age\"]].fillna(0).astype(int)\n",
    "\n",
    "df.dtypes"
   ]
  },
  {
   "cell_type": "markdown",
   "metadata": {},
   "source": [
    "## Data visualisation"
   ]
  },
  {
   "cell_type": "markdown",
   "metadata": {},
   "source": [
    "### Idol birthday analysis"
   ]
  },
  {
   "cell_type": "markdown",
   "metadata": {},
   "source": [
    "1. Calendar plot: idol birthday distribution"
   ]
  },
  {
   "cell_type": "markdown",
   "metadata": {},
   "source": [
    "2. Histogram plot: idol birth year distribution (all / male / female)"
   ]
  },
  {
   "cell_type": "markdown",
   "metadata": {},
   "source": [
    "3. Histogram plot: idol birth month distribution (all / male / female)"
   ]
  },
  {
   "cell_type": "markdown",
   "metadata": {},
   "source": [
    "### Debut analysis"
   ]
  },
  {
   "cell_type": "markdown",
   "metadata": {},
   "source": [
    "1. Calendar plot: debut anniversary distribution"
   ]
  },
  {
   "cell_type": "markdown",
   "metadata": {},
   "source": [
    "2. Histogram plot: debut anniversary distribution by month"
   ]
  },
  {
   "cell_type": "markdown",
   "metadata": {},
   "source": [
    "3. Bubble plot: debut age distribution (all / male / female)"
   ]
  },
  {
   "cell_type": "markdown",
   "metadata": {},
   "source": [
    "4. Bar plot: number of debuted idols per year"
   ]
  },
  {
   "cell_type": "markdown",
   "metadata": {},
   "source": [
    "5. Bar plot: number of debuted groups per year"
   ]
  },
  {
   "cell_type": "markdown",
   "metadata": {},
   "source": [
    "### Meta-analysis"
   ]
  },
  {
   "cell_type": "markdown",
   "metadata": {},
   "source": [
    "1. Pie chart: distribution of groups by gender"
   ]
  },
  {
   "cell_type": "markdown",
   "metadata": {},
   "source": [
    "2. Bar plot: number of members per group"
   ]
  },
  {
   "cell_type": "markdown",
   "metadata": {},
   "source": [
    "3. Pie chart: idol's country of origin distribution"
   ]
  },
  {
   "cell_type": "markdown",
   "metadata": {},
   "source": [
    "## Dashboard"
   ]
  },
  {
   "cell_type": "markdown",
   "metadata": {},
   "source": [
    "### Dash app setup"
   ]
  },
  {
   "cell_type": "code",
   "execution_count": null,
   "metadata": {},
   "outputs": [],
   "source": [
    "app = Dash(__name__, external_stylesheets=[dbc.themes.VAPOR])"
   ]
  },
  {
   "cell_type": "markdown",
   "metadata": {},
   "source": [
    "### Dashboard layout and callback"
   ]
  },
  {
   "cell_type": "markdown",
   "metadata": {},
   "source": [
    "### Run dashboard "
   ]
  },
  {
   "cell_type": "code",
   "execution_count": null,
   "metadata": {},
   "outputs": [],
   "source": [
    "if __name__ == '__main__':\n",
    "    app.run_server(debug=True)"
   ]
  }
 ],
 "metadata": {
  "kernelspec": {
   "display_name": "Python 3",
   "language": "python",
   "name": "python3"
  },
  "language_info": {
   "codemirror_mode": {
    "name": "ipython",
    "version": 3
   },
   "file_extension": ".py",
   "mimetype": "text/x-python",
   "name": "python",
   "nbconvert_exporter": "python",
   "pygments_lexer": "ipython3",
   "version": "3.12.0"
  }
 },
 "nbformat": 4,
 "nbformat_minor": 2
}
