{
 "cells": [
  {
   "cell_type": "markdown",
   "metadata": {},
   "source": [
    "# Kpop Dashboard Project"
   ]
  },
  {
   "cell_type": "markdown",
   "metadata": {},
   "source": [
    "## Import libraries"
   ]
  },
  {
   "cell_type": "code",
   "execution_count": null,
   "metadata": {},
   "outputs": [],
   "source": [
    "from dash import Dash, dcc, html, Output, Input\n",
    "import dash_bootstrap_components as dbc\n",
    "import numpy as np\n",
    "import pandas as pd\n",
    "# from plotly_calplot import calplot\n",
    "import plotly.express as px\n",
    "from summarytools import dfSummary"
   ]
  },
  {
   "cell_type": "markdown",
   "metadata": {},
   "source": [
    "## Exploratory data analysis"
   ]
  },
  {
   "cell_type": "markdown",
   "metadata": {},
   "source": [
    "### Load dataset"
   ]
  },
  {
   "cell_type": "code",
   "execution_count": null,
   "metadata": {},
   "outputs": [],
   "source": [
    "# Data retrieved from https://www.kaggle.com/datasets/nicolsalayoarias/all-kpop-idols/?select=kpopidolsv3.csv\n",
    "data = pd.read_csv('kpopidolsv3.csv')\n",
    "data.head()"
   ]
  },
  {
   "cell_type": "markdown",
   "metadata": {},
   "source": [
    "### Data cleaning"
   ]
  },
  {
   "cell_type": "code",
   "execution_count": null,
   "metadata": {},
   "outputs": [],
   "source": [
    "# Extract required columns\n",
    "df = data[[\"Full Name\", \"Group\", \"Former Group\", \"Date of Birth\", \"Debut\", \"Country\", \"Gender\"]]\n",
    "\n",
    "dfSummary(df)"
   ]
  },
  {
   "cell_type": "code",
   "execution_count": null,
   "metadata": {},
   "outputs": [],
   "source": [
    "# Drop rows where Full Name is missing (unable to identify) and Debut is filled with a placeholder date (not yet debuted)\n",
    "df = df.loc[df[\"Full Name\"].isnull() == False]\n",
    "df = df.loc[df[\"Debut\"] != \"0/01/1900\"]\n",
    "\n",
    "# Convert columns to required datatypes\n",
    "df = df.astype({\"Full Name\": str, \"Group\": str, \"Former Group\": str, \"Country\": str, \"Gender\": str})\n",
    "df[\"Date of Birth\"] = pd.to_datetime(df[\"Date of Birth\"], format = \"%d/%m/%Y\")\n",
    "df[\"Debut\"] = pd.to_datetime(df[\"Debut\"], format = \"%d/%m/%Y\")\n",
    "\n",
    "# Filter for idols from 2nd Generation onwards (debuted in or after 2005)\n",
    "df = df.loc[df[\"Debut\"] >= \"01/01/2005\"]\n",
    "\n",
    "df.dtypes"
   ]
  },
  {
   "cell_type": "code",
   "execution_count": null,
   "metadata": {},
   "outputs": [],
   "source": [
    "dfSummary(df)"
   ]
  },
  {
   "cell_type": "markdown",
   "metadata": {},
   "source": [
    "### Feature engineering"
   ]
  },
  {
   "cell_type": "code",
   "execution_count": null,
   "metadata": {},
   "outputs": [],
   "source": [
    "# Add new columns\n",
    "df[\"Debut Year\"] = df[\"Debut\"].dt.year\n",
    "df[\"Debut Month\"] = df[\"Debut\"].dt.month\n",
    "df[\"Birth Year\"] = df[\"Date of Birth\"].dt.year\n",
    "df[\"Birth Month\"]  =df[\"Date of Birth\"].dt.month\n",
    "df[\"Debut Age\"] = df[\"Debut Year\"] - df[\"Birth Year\"]"
   ]
  },
  {
   "cell_type": "code",
   "execution_count": null,
   "metadata": {},
   "outputs": [],
   "source": [
    "# Convert data types of the new columns\n",
    "# Fill Nan values in the new columns with 0 in order to allow conversion to int\n",
    "df[[\"Debut Year\", \"Debut Month\", \"Birth Year\", \"Birth Month\", \"Debut Age\"]] = df[[\"Debut Year\", \"Debut Month\", \"Birth Year\", \"Birth Month\", \"Debut Age\"]].fillna(0).astype(int)\n",
    "\n",
    "df.dtypes"
   ]
  },
  {
   "cell_type": "markdown",
   "metadata": {},
   "source": [
    "## Data visualisation"
   ]
  },
  {
   "cell_type": "markdown",
   "metadata": {},
   "source": [
    "### Idol birthday analysis"
   ]
  },
  {
   "cell_type": "markdown",
   "metadata": {},
   "source": [
    "1. Calendar plot: idol birthday distribution"
   ]
  },
  {
   "cell_type": "code",
   "execution_count": null,
   "metadata": {},
   "outputs": [],
   "source": [
    "# Group by"
   ]
  },
  {
   "cell_type": "markdown",
   "metadata": {},
   "source": [
    "2. Bar plot: idol birth year distribution (all / male / female)"
   ]
  },
  {
   "cell_type": "code",
   "execution_count": null,
   "metadata": {},
   "outputs": [],
   "source": [
    "# Part 1: Group by birth year on all idols\n",
    "bday2 = df.groupby(['Birth Year']).count()['Full Name'].iloc[1:]\n",
    "bday2.rename('Idol count', inplace = True)"
   ]
  },
  {
   "cell_type": "code",
   "execution_count": null,
   "metadata": {},
   "outputs": [],
   "source": [
    "fig_bday2 = px.bar(bday2, x = bday2.index, y = 'Idol count', title = 'Birth year distribution of K-Pop idols', \n",
    "             color = 'Idol count')\n",
    "\n",
    "fig_bday2.update_layout({'plot_bgcolor': 'rgba(0, 0, 0, 0)', 'paper_bgcolor': 'rgba(0, 0, 0, 0)'})\n",
    "fig_bday2.update_layout(\n",
    "    xaxis = dict(\n",
    "        tickmode = 'linear',\n",
    "        tick0 = 1,\n",
    "        dtick = 1\n",
    "    )\n",
    ")\n",
    "\n",
    "fig_bday2.show()"
   ]
  },
  {
   "cell_type": "code",
   "execution_count": null,
   "metadata": {},
   "outputs": [],
   "source": [
    "# Part 2: Group by birth year and gender on all idols\n",
    "bday2a = df.groupby(['Gender', 'Birth Year']).count()['Full Name']\n",
    "bday2a = pd.concat([bday2a.iloc[:26], bday2a.iloc[27:]], axis = 0)\n",
    "bday2a.rename('Idol count', inplace = True)\n",
    "bday2a = bday2a.reset_index()"
   ]
  },
  {
   "cell_type": "code",
   "execution_count": null,
   "metadata": {},
   "outputs": [],
   "source": [
    "fig_bday2a = px.bar(bday2a, x = 'Birth Year', y = 'Idol count', title = 'Birth year distribution of K-Pop idols by gender', \n",
    "             color = 'Gender', color_discrete_sequence = px.colors.sequential.Purp, barmode = 'group')\n",
    "\n",
    "fig_bday2a.update_layout({'plot_bgcolor': 'rgba(0, 0, 0, 0)', 'paper_bgcolor': 'rgba(0, 0, 0, 0)'})\n",
    "fig_bday2a.update_layout(\n",
    "    xaxis = dict(\n",
    "        tickmode = 'linear',\n",
    "        tick0 = 1,\n",
    "        dtick = 1\n",
    "    )\n",
    ")\n",
    "\n",
    "fig_bday2a.show()"
   ]
  },
  {
   "cell_type": "markdown",
   "metadata": {},
   "source": [
    "3. Bar plot: idol birth month distribution (all / male / female)"
   ]
  },
  {
   "cell_type": "code",
   "execution_count": null,
   "metadata": {},
   "outputs": [],
   "source": [
    "# Part 1: Group by birth month on all idols\n",
    "bday3 = df.groupby(['Birth Month']).count()['Full Name'].iloc[1:]\n",
    "bday3.rename('Idol count', inplace = True)"
   ]
  },
  {
   "cell_type": "code",
   "execution_count": null,
   "metadata": {},
   "outputs": [],
   "source": [
    "fig_bday3 = px.bar(bday3, x = bday3.index, y = 'Idol count', title = 'Birth month distribution of K-Pop idols', \n",
    "             color = 'Idol count')\n",
    "\n",
    "fig_bday3.update_layout({'plot_bgcolor': 'rgba(0, 0, 0, 0)', 'paper_bgcolor': 'rgba(0, 0, 0, 0)'})\n",
    "fig_bday3.update_layout(\n",
    "    xaxis = dict(\n",
    "        tickmode = 'array',\n",
    "        tickvals = list(range(1, 13)),\n",
    "        ticktext = [\"Jan\", \"Feb\", \"Mar\", \"Apr\", \"May\", \"Jun\", \"Jul\", \"Aug\", \"Sep\", \"Oct\", \"Nov\", \"Dec\"]\n",
    "    )\n",
    ")\n",
    "\n",
    "fig_bday3.show()"
   ]
  },
  {
   "cell_type": "code",
   "execution_count": null,
   "metadata": {},
   "outputs": [],
   "source": [
    "# Part 2: Group by birth month and gender on all idols\n",
    "bday3a = df.groupby(['Gender', 'Birth Month']).count()['Full Name']\n",
    "bday3a = pd.concat([bday3a.iloc[:12], bday3a.iloc[13:]], axis = 0)\n",
    "bday3a.rename('Idol count', inplace = True)\n",
    "bday3a = bday3a.reset_index()"
   ]
  },
  {
   "cell_type": "code",
   "execution_count": null,
   "metadata": {},
   "outputs": [],
   "source": [
    "fig_bday3a = px.bar(bday3a, x = 'Birth Month', y = 'Idol count', title = 'Birth month distribution of K-Pop idols by gender', \n",
    "             color = 'Gender', color_discrete_sequence = px.colors.sequential.Purp, barmode = 'group')\n",
    "\n",
    "fig_bday3a.update_layout({'plot_bgcolor': 'rgba(0, 0, 0, 0)', 'paper_bgcolor': 'rgba(0, 0, 0, 0)'})\n",
    "fig_bday3a.update_layout(\n",
    "    xaxis = dict(\n",
    "        tickmode = 'array',\n",
    "        tickvals = list(range(1, 13)),\n",
    "        ticktext = [\"Jan\", \"Feb\", \"Mar\", \"Apr\", \"May\", \"Jun\", \"Jul\", \"Aug\", \"Sep\", \"Oct\", \"Nov\", \"Dec\"]\n",
    "    )\n",
    ")\n",
    "\n",
    "fig_bday3a.show()"
   ]
  },
  {
   "cell_type": "markdown",
   "metadata": {},
   "source": [
    "### Debut analysis"
   ]
  },
  {
   "cell_type": "markdown",
   "metadata": {},
   "source": [
    "1. Calendar plot: debut anniversary distribution"
   ]
  },
  {
   "cell_type": "code",
   "execution_count": null,
   "metadata": {},
   "outputs": [],
   "source": [
    "# Group by Debut Month"
   ]
  },
  {
   "cell_type": "markdown",
   "metadata": {},
   "source": [
    "2. Bar plot: debut anniversary distribution by month"
   ]
  },
  {
   "cell_type": "code",
   "execution_count": null,
   "metadata": {},
   "outputs": [],
   "source": [
    "# Group by Debut Month and exclude rows with placeholder / invalid dates\n",
    "debut2 = df.groupby(['Debut Month']).count()['Full Name'].iloc[1:]\n",
    "debut2.rename('Idol count', inplace = True)"
   ]
  },
  {
   "cell_type": "code",
   "execution_count": null,
   "metadata": {},
   "outputs": [],
   "source": [
    "fig_debut2 = px.bar(debut2, x = debut2.index, y = 'Idol count', title = 'Debut month distribution of K-Pop idols', \n",
    "             color = 'Idol count')\n",
    "\n",
    "fig_debut2.update_layout({'plot_bgcolor': 'rgba(0, 0, 0, 0)', 'paper_bgcolor': 'rgba(0, 0, 0, 0)'})\n",
    "fig_debut2.update_layout(\n",
    "    xaxis = dict(\n",
    "        tickmode = 'array',\n",
    "        tickvals = list(range(1, 13)),\n",
    "        ticktext = [\"Jan\", \"Feb\", \"Mar\", \"Apr\", \"May\", \"Jun\", \"Jul\", \"Aug\", \"Sep\", \"Oct\", \"Nov\", \"Dec\"]\n",
    "    )\n",
    ")\n",
    "\n",
    "fig_debut2.show()"
   ]
  },
  {
   "cell_type": "markdown",
   "metadata": {},
   "source": [
    "3. Bubble plot: debut age distribution (all / male / female)"
   ]
  },
  {
   "cell_type": "markdown",
   "metadata": {},
   "source": [
    "4. Bar plot: number of debuted idols per year"
   ]
  },
  {
   "cell_type": "code",
   "execution_count": null,
   "metadata": {},
   "outputs": [],
   "source": [
    "# Group by Debut Year and count by idol name; exclude rows with placeholder / invalid dates\n",
    "debut4 = df.groupby(['Debut Year']).count()['Full Name']\n",
    "debut4.rename('Idol count', inplace = True)"
   ]
  },
  {
   "cell_type": "code",
   "execution_count": null,
   "metadata": {},
   "outputs": [],
   "source": [
    "fig_debut4 = px.bar(debut4, x = debut4.index, y = 'Idol count', title = 'Number of debuted K-Pop idols per year', \n",
    "             color = 'Idol count')\n",
    "\n",
    "fig_debut4.update_layout({'plot_bgcolor': 'rgba(0, 0, 0, 0)', 'paper_bgcolor': 'rgba(0, 0, 0, 0)'})\n",
    "fig_debut4.update_layout(\n",
    "    xaxis = dict(\n",
    "        tickmode = 'linear',\n",
    "        tick0 = 1,\n",
    "        dtick = 1\n",
    "    )\n",
    ")\n",
    "\n",
    "fig_debut4.show()"
   ]
  },
  {
   "cell_type": "markdown",
   "metadata": {},
   "source": [
    "5. Bar plot: number of debuted groups per year"
   ]
  },
  {
   "cell_type": "code",
   "execution_count": null,
   "metadata": {},
   "outputs": [],
   "source": [
    "# Group by Debut Year and count by group name; exclude rows with placeholder / invalid dates\n",
    "debut5 = df[['Group', 'Debut Year']].groupby(['Debut Year']).nunique()['Group']\n",
    "debut5.rename('Group count', inplace = True)"
   ]
  },
  {
   "cell_type": "code",
   "execution_count": null,
   "metadata": {},
   "outputs": [],
   "source": [
    "fig_debut5 = px.bar(debut5, x = debut5.index, y = 'Group count', title = 'Number of debuted K-Pop groups per year', \n",
    "             color = 'Group count')\n",
    "\n",
    "fig_debut5.update_layout({'plot_bgcolor': 'rgba(0, 0, 0, 0)', 'paper_bgcolor': 'rgba(0, 0, 0, 0)'})\n",
    "fig_debut5.update_layout(\n",
    "    xaxis = dict(\n",
    "        tickmode = 'linear',\n",
    "        tick0 = 1,\n",
    "        dtick = 1\n",
    "    )\n",
    ")\n",
    "\n",
    "fig_debut5.show()"
   ]
  },
  {
   "cell_type": "markdown",
   "metadata": {},
   "source": [
    "### Meta-analysis"
   ]
  },
  {
   "cell_type": "markdown",
   "metadata": {},
   "source": [
    "1. Pie chart: distribution of groups by gender"
   ]
  },
  {
   "cell_type": "code",
   "execution_count": null,
   "metadata": {},
   "outputs": [],
   "source": [
    "# Group by Gender\n",
    "meta1 = df.groupby(['Gender']).count()['Full Name']\n",
    "meta1.rename('Idol count', inplace = True)"
   ]
  },
  {
   "cell_type": "code",
   "execution_count": null,
   "metadata": {},
   "outputs": [],
   "source": [
    "fig_meta1 = px.pie(meta1, values = 'Full Name', names = meta1.index, title = 'Gender ratio of K-Pop idols', \n",
    "             color_discrete_sequence = px.colors.sequential.Purp)\n",
    "\n",
    "fig_meta1.show()"
   ]
  },
  {
   "cell_type": "markdown",
   "metadata": {},
   "source": [
    "2. Bar plot: number of members per group"
   ]
  },
  {
   "cell_type": "code",
   "execution_count": null,
   "metadata": {},
   "outputs": [],
   "source": [
    "# Group by Group and count by existing group members, then group by the number of members\n",
    "meta2 = df[['Group', 'Full Name']].groupby(['Group']).nunique()['Full Name']\n",
    "meta2 = meta2.groupby(meta2.values).count()[:-1]\n",
    "meta2.rename('Group count', inplace = True)\n",
    "meta2.index.name = 'Number of members'"
   ]
  },
  {
   "cell_type": "code",
   "execution_count": null,
   "metadata": {},
   "outputs": [],
   "source": [
    "fig_meta2 = px.bar(meta2, x = meta2.index, y = 'Group count', title = 'Number of members per K-Pop group', \n",
    "             color = 'Group count')\n",
    "\n",
    "fig_meta2.update_layout({'plot_bgcolor': 'rgba(0, 0, 0, 0)', 'paper_bgcolor': 'rgba(0, 0, 0, 0)'})\n",
    "fig_meta2.update_layout(\n",
    "    xaxis = dict(\n",
    "        tickmode = 'linear',\n",
    "        tick0 = 1,\n",
    "        dtick = 1\n",
    "    )\n",
    ")\n",
    "\n",
    "fig_meta2.show()"
   ]
  },
  {
   "cell_type": "markdown",
   "metadata": {},
   "source": [
    "3. Pie chart: idol's country of origin distribution"
   ]
  },
  {
   "cell_type": "code",
   "execution_count": null,
   "metadata": {},
   "outputs": [],
   "source": [
    "# Group by Country and relabel countries with few counts\n",
    "meta3 = df.groupby(['Country']).count()['Full Name']\n",
    "meta3.rename('Idol count', inplace = True)\n",
    "meta3.index = np.where(meta3 < 3, 'Other countries', meta3.index)\n",
    "meta3.index.name = 'Country of origin'\n",
    "# meta3"
   ]
  },
  {
   "cell_type": "code",
   "execution_count": null,
   "metadata": {},
   "outputs": [],
   "source": [
    "fig_meta3 = px.pie(meta3, values = 'Idol count', names = meta3.index, title = 'Country of origin ratio of K-Pop idols', \n",
    "             color_discrete_sequence = px.colors.sequential.Purpor)\n",
    "\n",
    "fig_meta3.show()"
   ]
  },
  {
   "cell_type": "markdown",
   "metadata": {},
   "source": [
    "## Dashboard"
   ]
  },
  {
   "cell_type": "markdown",
   "metadata": {},
   "source": [
    "### Dash app setup"
   ]
  },
  {
   "cell_type": "code",
   "execution_count": null,
   "metadata": {},
   "outputs": [],
   "source": [
    "app = Dash(__name__, external_stylesheets=[dbc.themes.PULSE])"
   ]
  },
  {
   "cell_type": "markdown",
   "metadata": {},
   "source": [
    "### Dashboard layout and callback"
   ]
  },
  {
   "cell_type": "markdown",
   "metadata": {},
   "source": [
    "### Run dashboard "
   ]
  },
  {
   "cell_type": "code",
   "execution_count": null,
   "metadata": {},
   "outputs": [],
   "source": [
    "if __name__ == '__main__':\n",
    "    app.run_server(debug=True)"
   ]
  }
 ],
 "metadata": {
  "kernelspec": {
   "display_name": "Python 3",
   "language": "python",
   "name": "python3"
  },
  "language_info": {
   "codemirror_mode": {
    "name": "ipython",
    "version": 3
   },
   "file_extension": ".py",
   "mimetype": "text/x-python",
   "name": "python",
   "nbconvert_exporter": "python",
   "pygments_lexer": "ipython3",
   "version": "3.12.0"
  }
 },
 "nbformat": 4,
 "nbformat_minor": 2
}
